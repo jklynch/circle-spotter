{
 "cells": [
  {
   "cell_type": "code",
   "execution_count": null,
   "id": "cf4a7b43-0112-4cb8-8db8-63a4cce6a105",
   "metadata": {},
   "outputs": [],
   "source": [
    "import itertools\n",
    "\n",
    "import matplotlib.pyplot as plt\n",
    "import numpy as np\n",
    "from PIL import Image, ImageDraw, ImageOps"
   ]
  },
  {
   "cell_type": "code",
   "execution_count": null,
   "id": "932631f3-d760-4319-bd19-8ba9b6ac13a1",
   "metadata": {},
   "outputs": [],
   "source": [
    "def image_of_a_circle(image_width, image_height, circle_e1, circle_e2, circle_radius):\n",
    "    \"\"\"\n",
    "    The most simple image of a circle?\n",
    "    \"\"\"\n",
    "    # mode=\"F\" for 32-bit floating point pixels\n",
    "    image = Image.new(\n",
    "        mode=\"F\",\n",
    "        size=(image_width, image_height)\n",
    "    )\n",
    "\n",
    "    artist = ImageDraw.ImageDraw(image)\n",
    "    artist.ellipse(\n",
    "        (\n",
    "            circle_e1 - circle_radius/2,\n",
    "            circle_e2 - circle_radius/2,\n",
    "            circle_e1 + circle_radius/2,\n",
    "            circle_e2 + circle_radius/2\n",
    "        ),\n",
    "        width=1,\n",
    "        outline=255\n",
    "    )\n",
    "    \n",
    "    return image\n"
   ]
  },
  {
   "cell_type": "code",
   "execution_count": null,
   "id": "afd0b74b-2ead-4566-8022-8b1a7da1a233",
   "metadata": {},
   "outputs": [],
   "source": [
    "fig, axs = plt.subplots(nrows=2, ncols=2)\n",
    "for r, c in itertools.product(range(2), range(2)):\n",
    "    center_x, center_y = np.random.randint(low=20, high=80, size=2)\n",
    "    ring_count = 1 #np.random.randint(low=1, high=5)\n",
    "    #radius_list = sorted(np.random.permutation(tuple(range(20, 71)))[:ring_count])\n",
    "    radius = np.random.randint(low=10, high=40)\n",
    "    print('center: ({}, {}) radius: {}'.format(center_x, center_y, radius))\n",
    "\n",
    "    im = image_of_a_circle(\n",
    "        image_width=100,\n",
    "        image_height=100,\n",
    "        circle_e1=center_x,\n",
    "        circle_e2=center_y,\n",
    "        circle_radius=radius\n",
    "    )\n",
    "    axs[r][c].imshow(im, origin=\"lower\")\n",
    "\n",
    "    \n",
    "    print(np.array(im))\n"
   ]
  },
  {
   "cell_type": "code",
   "execution_count": null,
   "id": "3e937cd6-5552-4501-985d-03bdc697e321",
   "metadata": {},
   "outputs": [],
   "source": []
  }
 ],
 "metadata": {
  "kernelspec": {
   "display_name": "Python 3 (ipykernel)",
   "language": "python",
   "name": "python3"
  },
  "language_info": {
   "codemirror_mode": {
    "name": "ipython",
    "version": 3
   },
   "file_extension": ".py",
   "mimetype": "text/x-python",
   "name": "python",
   "nbconvert_exporter": "python",
   "pygments_lexer": "ipython3",
   "version": "3.8.12"
  }
 },
 "nbformat": 4,
 "nbformat_minor": 5
}
