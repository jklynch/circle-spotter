{
 "cells": [
  {
   "cell_type": "code",
   "execution_count": null,
   "id": "cf4a7b43-0112-4cb8-8db8-63a4cce6a105",
   "metadata": {},
   "outputs": [],
   "source": [
    "import itertools\n",
    "\n",
    "import matplotlib.pyplot as plt\n",
    "import numpy as np\n",
    "from PIL import Image, ImageDraw, ImageOps"
   ]
  },
  {
   "cell_type": "code",
   "execution_count": null,
   "id": "f562ef4d-5051-487c-8aae-66dae0c484d4",
   "metadata": {},
   "outputs": [],
   "source": [
    "def get_empty_image(image_width, image_height):\n",
    "    # mode=\"F\" for 32-bit floating point pixels\n",
    "    empty_image = Image.new(\n",
    "        mode=\"F\",\n",
    "        size=(image_width, image_height)\n",
    "    )\n",
    "\n",
    "    return empty_image"
   ]
  },
  {
   "cell_type": "code",
   "execution_count": null,
   "id": "ba76e7ac-2ced-42cf-ae3c-82a905418cbf",
   "metadata": {},
   "outputs": [],
   "source": [
    "empty_image = get_empty_image(image_width=100, image_height=200)"
   ]
  },
  {
   "cell_type": "code",
   "execution_count": null,
   "id": "eeec2a28-f15c-4954-9f8c-25bcc8f0f919",
   "metadata": {},
   "outputs": [],
   "source": [
    "empty_image.size"
   ]
  },
  {
   "cell_type": "code",
   "execution_count": null,
   "id": "932631f3-d760-4319-bd19-8ba9b6ac13a1",
   "metadata": {},
   "outputs": [],
   "source": [
    "def draw_a_circle(target_image, circle_e1, circle_e2, circle_radius):\n",
    "    \"\"\"\n",
    "    The most simple image of a circle?\n",
    "    \"\"\"\n",
    "    artist = ImageDraw.ImageDraw(target_image)\n",
    "    artist.ellipse(\n",
    "        (\n",
    "            circle_e1 - circle_radius/2,\n",
    "            circle_e2 - circle_radius/2,\n",
    "            circle_e1 + circle_radius/2,\n",
    "            circle_e2 + circle_radius/2\n",
    "        ),\n",
    "        width=1,\n",
    "        outline=255\n",
    "    )\n",
    "    \n",
    "    return target_image\n"
   ]
  },
  {
   "cell_type": "code",
   "execution_count": null,
   "id": "afd0b74b-2ead-4566-8022-8b1a7da1a233",
   "metadata": {},
   "outputs": [],
   "source": [
    "fig, axs = plt.subplots(nrows=2, ncols=2)\n",
    "for r, c in itertools.product(range(2), range(2)):\n",
    "    center_x, center_y = np.random.randint(low=20, high=80, size=2)\n",
    "    radius = np.random.randint(low=10, high=40)\n",
    "    print('center: ({}, {}) radius: {}'.format(center_x, center_y, radius))\n",
    "\n",
    "    the_image = get_empty_image(image_width=100, image_height=100)\n",
    "\n",
    "    im = draw_a_circle(\n",
    "        target_image=the_image,\n",
    "        circle_e1=center_x,\n",
    "        circle_e2=center_y,\n",
    "        circle_radius=radius\n",
    "    )\n",
    "    axs[r][c].imshow(im, origin=\"lower\")\n",
    "\n",
    "    \n",
    "    print(np.array(im))\n"
   ]
  },
  {
   "cell_type": "code",
   "execution_count": null,
   "id": "39916367-5658-4840-a39f-22a3a6ba88f7",
   "metadata": {},
   "outputs": [],
   "source": [
    "# draw a random number of circles\n",
    "fig, axs = plt.subplots(nrows=2, ncols=2)\n",
    "for r, c in itertools.product(range(2), range(2)):\n",
    "    circle_count = np.random.randint(low=0, high=5)\n",
    "    the_image = get_empty_image(image_width=100, image_height=100)\n",
    "    for circle_i in range(circle_count):\n",
    "        center_x, center_y = np.random.randint(low=20, high=80, size=2)\n",
    "        radius = np.random.randint(low=10, high=40)\n",
    "        print('center: ({}, {}) radius: {}'.format(center_x, center_y, radius))\n",
    "\n",
    "        draw_a_circle(\n",
    "            target_image=the_image,\n",
    "            circle_e1=center_x,\n",
    "            circle_e2=center_y,\n",
    "            circle_radius=radius\n",
    "        )\n",
    "    axs[r][c].imshow(the_image, origin=\"lower\")\n",
    "\n",
    "    \n",
    "    print(np.array(im))\n"
   ]
  }
 ],
 "metadata": {
  "kernelspec": {
   "display_name": "Python 3 (ipykernel)",
   "language": "python",
   "name": "python3"
  },
  "language_info": {
   "codemirror_mode": {
    "name": "ipython",
    "version": 3
   },
   "file_extension": ".py",
   "mimetype": "text/x-python",
   "name": "python",
   "nbconvert_exporter": "python",
   "pygments_lexer": "ipython3",
   "version": "3.8.12"
  }
 },
 "nbformat": 4,
 "nbformat_minor": 5
}
