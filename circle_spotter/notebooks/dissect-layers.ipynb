{
 "cells": [
  {
   "cell_type": "code",
   "execution_count": null,
   "id": "7157c61c-e5c9-4bad-b6de-11e75df19245",
   "metadata": {},
   "outputs": [],
   "source": [
    "import torch.nn as tnn"
   ]
  },
  {
   "cell_type": "code",
   "execution_count": null,
   "id": "480b6364-08a3-489b-ac98-f82045c96a68",
   "metadata": {},
   "outputs": [],
   "source": [
    "spot_circles_network = tnn.Sequential(\n",
    "    tnn.Conv2d(\n",
    "        in_channels=1,\n",
    "        out_channels=2,\n",
    "        kernel_size=2,\n",
    "        stride=1,\n",
    "        padding=1\n",
    "    ),\n",
    "    tnn.ReLU(),\n",
    "    tnn.MaxPool2d(kernel_size=3, stride=2),\n",
    ")"
   ]
  },
  {
   "cell_type": "code",
   "execution_count": null,
   "id": "0cd49cb1-b90b-4648-a9af-eeabbd0e7460",
   "metadata": {},
   "outputs": [],
   "source": [
    "spot_circles_network"
   ]
  },
  {
   "cell_type": "code",
   "execution_count": null,
   "id": "01c6fd25-3597-4c63-84d5-48c87671edba",
   "metadata": {},
   "outputs": [],
   "source": [
    "import torch"
   ]
  },
  {
   "cell_type": "code",
   "execution_count": null,
   "id": "ac35821c-14bd-4f3e-985f-079133348a00",
   "metadata": {},
   "outputs": [],
   "source": [
    "# look at single image tensor with 1 \"color channel\"\n",
    "torch.ones((1, 5, 5), dtype=torch.float32)"
   ]
  },
  {
   "cell_type": "code",
   "execution_count": null,
   "id": "e9f182f7-fa5c-4ae3-86ff-ca1e58381854",
   "metadata": {},
   "outputs": [],
   "source": [
    "# look at a batch of 1 image tensor\n",
    "torch.ones((1, 1, 5, 5), dtype=torch.float32)"
   ]
  },
  {
   "cell_type": "code",
   "execution_count": null,
   "id": "ad8b40ce-2187-41a2-8c65-10e8a50ef5b7",
   "metadata": {},
   "outputs": [],
   "source": [
    "# look at a batch of 2 image tensors\n",
    "torch.ones((2, 1, 5, 5), dtype=torch.float32)"
   ]
  },
  {
   "cell_type": "code",
   "execution_count": null,
   "id": "2ba4b489-b7c7-4487-b215-ed32baee250c",
   "metadata": {},
   "outputs": [],
   "source": [
    "conv_2d_layer = tnn.Conv2d(\n",
    "    in_channels=1,\n",
    "    out_channels=2,\n",
    "    kernel_size=2,\n",
    "    stride=1,\n",
    "    padding=0\n",
    ")\n",
    "input_tensor = torch.ones((1, 1, 5, 5), dtype=torch.float32)\n",
    "conv_2d_output_tensor = conv_2d_layer(input_tensor)\n",
    "conv_2d_output_tensor"
   ]
  },
  {
   "cell_type": "code",
   "execution_count": null,
   "id": "50d92fbd-c6a3-4cbd-a8a9-f632a9ae50f0",
   "metadata": {},
   "outputs": [],
   "source": [
    "relu_layer = tnn.ReLU()\n",
    "relu_output_tensor = relu_layer(conv_2d_output_tensor)\n",
    "relu_output_tensor"
   ]
  },
  {
   "cell_type": "code",
   "execution_count": null,
   "id": "04151f14-b450-40f9-89a9-593054ff27fb",
   "metadata": {},
   "outputs": [],
   "source": [
    "max_pool_layer = tnn.MaxPool2d(kernel_size=2, stride=1)\n",
    "max_pool_output_tensor = max_pool_layer(relu_output_tensor)\n",
    "max_pool_output_tensor"
   ]
  },
  {
   "cell_type": "code",
   "execution_count": null,
   "id": "293b08c5-eece-4f90-ab3a-69afeb9db644",
   "metadata": {},
   "outputs": [],
   "source": [
    "flatten_layer = tnn.Flatten()\n",
    "flatten_layer_output_tensor = flatten_layer(max_pool_output_tensor)\n",
    "flatten_layer_output_tensor"
   ]
  },
  {
   "cell_type": "code",
   "execution_count": null,
   "id": "ebe1d667-ee21-4a9c-b711-9cbfb3b881ec",
   "metadata": {},
   "outputs": [],
   "source": []
  }
 ],
 "metadata": {
  "kernelspec": {
   "display_name": "Python 3 (ipykernel)",
   "language": "python",
   "name": "python3"
  },
  "language_info": {
   "codemirror_mode": {
    "name": "ipython",
    "version": 3
   },
   "file_extension": ".py",
   "mimetype": "text/x-python",
   "name": "python",
   "nbconvert_exporter": "python",
   "pygments_lexer": "ipython3",
   "version": "3.8.12"
  }
 },
 "nbformat": 4,
 "nbformat_minor": 5
}
